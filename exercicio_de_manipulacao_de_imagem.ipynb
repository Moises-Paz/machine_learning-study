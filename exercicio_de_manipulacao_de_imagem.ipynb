{
 "cells": [
  {
   "cell_type": "code",
   "execution_count": 1,
   "id": "d31adfb2",
   "metadata": {},
   "outputs": [
    {
     "name": "stdout",
     "output_type": "stream",
     "text": [
      "Requirement already satisfied: opencv-python in c:\\users\\moise\\anaconda3\\lib\\site-packages (4.6.0.66)\n",
      "Requirement already satisfied: numpy>=1.19.3 in c:\\users\\moise\\anaconda3\\lib\\site-packages (from opencv-python) (1.21.5)\n",
      "Note: you may need to restart the kernel to use updated packages.\n"
     ]
    }
   ],
   "source": [
    "pip install opencv-python"
   ]
  },
  {
   "cell_type": "code",
   "execution_count": 25,
   "id": "14652c45",
   "metadata": {},
   "outputs": [],
   "source": [
    "#bibliotecas\n",
    "import cv2\n",
    "import matplotlib.pyplot as plt\n",
    "import numpy as np\n",
    "#from PIL import Image"
   ]
  },
  {
   "cell_type": "code",
   "execution_count": 18,
   "id": "2f0a36e0",
   "metadata": {},
   "outputs": [],
   "source": [
    "#adquirindo a imagem tucano3.png\n",
    "tucano = cv2.imread('D:/programacao/my_programas/FIC_ML/imagens/tucano3.png')"
   ]
  },
  {
   "cell_type": "markdown",
   "id": "464db7a4",
   "metadata": {},
   "source": [
    "1 - Utilizando a imagem \"tucano3.png\" enviada, realize a conversão para o espaço de cores HSV, e utilizando o código enviado\n",
    "como exemplo, crie uma máscara que destaque SOMENTE a cor AMARELA."
   ]
  },
  {
   "cell_type": "code",
   "execution_count": 83,
   "id": "6e81a5ea",
   "metadata": {},
   "outputs": [],
   "source": [
    "tucanoHSV = cv2.cvtColor(tucano, cv2.COLOR_BGR2HSV)\n",
    "claro = np.array([13, 175, 0])\n",
    "escuro = np.array([25, 255, 255])\n",
    "mask = cv2.inRange(tucanoHSV, claro, escuro)\n",
    "output = cv2.bitwise_and(tucano, tucano, mask=mask)\n",
    "cv2.imshow('Cor detectada', np.hstack((tucano, output)))\n",
    "cv2.waitKey(0)\n",
    "cv2.destroyAllWindows()"
   ]
  },
  {
   "cell_type": "markdown",
   "id": "9d929ca6",
   "metadata": {},
   "source": [
    "2 - Utilizando os métodos de redução das dimensões e interpolação explicados, utilize a mesma imagem do exercício 1 para:"
   ]
  },
  {
   "cell_type": "code",
   "execution_count": null,
   "id": "a27e22d4",
   "metadata": {},
   "outputs": [],
   "source": []
  }
 ],
 "metadata": {
  "kernelspec": {
   "display_name": "Python 3 (ipykernel)",
   "language": "python",
   "name": "python3"
  },
  "language_info": {
   "codemirror_mode": {
    "name": "ipython",
    "version": 3
   },
   "file_extension": ".py",
   "mimetype": "text/x-python",
   "name": "python",
   "nbconvert_exporter": "python",
   "pygments_lexer": "ipython3",
   "version": "3.9.13"
  }
 },
 "nbformat": 4,
 "nbformat_minor": 5
}
