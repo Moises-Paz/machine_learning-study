{
 "cells": [
  {
   "cell_type": "code",
   "execution_count": null,
   "id": "a17b588d",
   "metadata": {},
   "outputs": [],
   "source": [
    "lst_ling = [[\"Python\", 1991],\n",
    " [\"C#\", 2001],\n",
    " [\"Java\", 1995],\n",
    " [\"C++\", 1980],\n",
    " [\"C\", 1972],\n",
    " [\"VB.NET\", 2002],\n",
    " [\"JavaScript\", 1995],\n",
    " [\"Go\", 2009],\n",
    " [\"R\", 1993],\n",
    " [\"Swift\", 2014],\n",
    " [\"PHP\", 1995]]"
   ]
  }
 ],
 "metadata": {
  "kernelspec": {
   "display_name": "Python 3 (ipykernel)",
   "language": "python",
   "name": "python3"
  },
  "language_info": {
   "codemirror_mode": {
    "name": "ipython",
    "version": 3
   },
   "file_extension": ".py",
   "mimetype": "text/x-python",
   "name": "python",
   "nbconvert_exporter": "python",
   "pygments_lexer": "ipython3",
   "version": "3.9.13"
  }
 },
 "nbformat": 4,
 "nbformat_minor": 5
}
