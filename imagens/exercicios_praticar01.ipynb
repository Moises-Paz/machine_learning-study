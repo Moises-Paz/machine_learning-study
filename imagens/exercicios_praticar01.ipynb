{
 "cells": [
  {
   "cell_type": "markdown",
   "id": "2187fb7e",
   "metadata": {},
   "source": [
    "Parte A"
   ]
  },
  {
   "cell_type": "code",
   "execution_count": 11,
   "id": "7adf5e3f",
   "metadata": {},
   "outputs": [],
   "source": [
    "lst_ling = [[\"Python\", 1991],\n",
    " [\"C#\", 2001],\n",
    " [\"Java\", 1995],\n",
    " [\"C++\", 1980],\n",
    " [\"C\", 1972],\n",
    " [\"VB.NET\", 2002],\n",
    " [\"JavaScript\", 1995],\n",
    " [\"Go\", 2009],\n",
    " [\"R\", 1993],\n",
    " [\"Swift\", 2014],\n",
    " [\"PHP\", 1995]]"
   ]
  },
  {
   "cell_type": "code",
   "execution_count": 16,
   "id": "112767b6",
   "metadata": {},
   "outputs": [
    {
     "data": {
      "text/plain": [
       "[['Python', 1991],\n",
       " ['C#', 2001],\n",
       " ['Java', 1995],\n",
       " ['C++', 1980],\n",
       " ['C', 1972],\n",
       " ['VB.NET', 2002],\n",
       " ['JavaScript', 1995],\n",
       " ['Go', 2009],\n",
       " ['R', 1993],\n",
       " ['Swift', 2014],\n",
       " ['PHP', 1995]]"
      ]
     },
     "execution_count": 16,
     "metadata": {},
     "output_type": "execute_result"
    }
   ],
   "source": [
    "#Mostra a lista completa:\n",
    "lst_ling"
   ]
  },
  {
   "cell_type": "code",
   "execution_count": 18,
   "id": "61b6903c",
   "metadata": {},
   "outputs": [
    {
     "data": {
      "text/plain": [
       "11"
      ]
     },
     "execution_count": 18,
     "metadata": {},
     "output_type": "execute_result"
    }
   ],
   "source": [
    "#Retorna quantos elementos existem na lista\n",
    "len(lst_ling)"
   ]
  },
  {
   "cell_type": "code",
   "execution_count": 20,
   "id": "3de23b60",
   "metadata": {},
   "outputs": [
    {
     "data": {
      "text/plain": [
       "[['PHP', 1995],\n",
       " ['Swift', 2014],\n",
       " ['R', 1993],\n",
       " ['Go', 2009],\n",
       " ['JavaScript', 1995],\n",
       " ['VB.NET', 2002],\n",
       " ['C', 1972],\n",
       " ['C++', 1980],\n",
       " ['Java', 1995],\n",
       " ['C#', 2001],\n",
       " ['Python', 1991]]"
      ]
     },
     "execution_count": 20,
     "metadata": {},
     "output_type": "execute_result"
    }
   ],
   "source": [
    "#Mostra a lista invertida\n",
    "lst_ling[::-1]"
   ]
  },
  {
   "cell_type": "code",
   "execution_count": 21,
   "id": "7fa114a7",
   "metadata": {},
   "outputs": [],
   "source": [
    "#Adicina mais uma linguagem a lista\n",
    "lst_ling.append(['Matlab', 1984])"
   ]
  },
  {
   "cell_type": "code",
   "execution_count": 22,
   "id": "c91fcfec",
   "metadata": {},
   "outputs": [
    {
     "data": {
      "text/plain": [
       "[['Python', 1991],\n",
       " ['C#', 2001],\n",
       " ['Java', 1995],\n",
       " ['C++', 1980],\n",
       " ['C', 1972],\n",
       " ['VB.NET', 2002],\n",
       " ['JavaScript', 1995],\n",
       " ['Go', 2009],\n",
       " ['R', 1993],\n",
       " ['Swift', 2014],\n",
       " ['PHP', 1995],\n",
       " ['Matlab', 1984]]"
      ]
     },
     "execution_count": 22,
     "metadata": {},
     "output_type": "execute_result"
    }
   ],
   "source": [
    "#Motra a lista com a adição da linguagem acima\n",
    "lst_ling"
   ]
  },
  {
   "cell_type": "code",
   "execution_count": 24,
   "id": "2ebd601e",
   "metadata": {},
   "outputs": [
    {
     "data": {
      "text/plain": [
       "['Python', 1991]"
      ]
     },
     "execution_count": 24,
     "metadata": {},
     "output_type": "execute_result"
    }
   ],
   "source": [
    "lst_ling.pop(0)"
   ]
  },
  {
   "cell_type": "code",
   "execution_count": 25,
   "id": "62279ee2",
   "metadata": {},
   "outputs": [
    {
     "data": {
      "text/plain": [
       "[['C#', 2001],\n",
       " ['Java', 1995],\n",
       " ['C++', 1980],\n",
       " ['C', 1972],\n",
       " ['VB.NET', 2002],\n",
       " ['JavaScript', 1995],\n",
       " ['Go', 2009],\n",
       " ['R', 1993],\n",
       " ['Swift', 2014],\n",
       " ['PHP', 1995],\n",
       " ['Matlab', 1984]]"
      ]
     },
     "execution_count": 25,
     "metadata": {},
     "output_type": "execute_result"
    }
   ],
   "source": [
    "#Mostra a lista sem o primeiro elemento (elemento retirado a cima)\n",
    "lst_ling"
   ]
  },
  {
   "cell_type": "code",
   "execution_count": 41,
   "id": "b4650379",
   "metadata": {},
   "outputs": [],
   "source": [
    "#Ordena a lista pelo ano de criação das linguagens\n",
    "lst_ling.sort(key=lambda lst_ling: lst_ling[1])"
   ]
  },
  {
   "cell_type": "code",
   "execution_count": 42,
   "id": "27decb40",
   "metadata": {},
   "outputs": [
    {
     "data": {
      "text/plain": [
       "[['C', 1972],\n",
       " ['C++', 1980],\n",
       " ['Matlab', 1984],\n",
       " ['R', 1993],\n",
       " ['Java', 1995],\n",
       " ['JavaScript', 1995],\n",
       " ['PHP', 1995],\n",
       " ['C#', 2001],\n",
       " ['VB.NET', 2002],\n",
       " ['Go', 2009],\n",
       " ['Swift', 2014]]"
      ]
     },
     "execution_count": 42,
     "metadata": {},
     "output_type": "execute_result"
    }
   ],
   "source": [
    "#Mostra a lista ordenada pelo ano de criação das linguagens\n",
    "lst_ling"
   ]
  },
  {
   "cell_type": "code",
   "execution_count": 49,
   "id": "90085e41",
   "metadata": {},
   "outputs": [],
   "source": [
    "#Gerando duas sublistas: com apenas o nome e com apenas o ano\n",
    "lista_ano = [aux[1] for aux in lst_ling]\n",
    "lista_nome = [u[0] for u in lst_ling]"
   ]
  },
  {
   "cell_type": "code",
   "execution_count": 51,
   "id": "cfc70671",
   "metadata": {},
   "outputs": [
    {
     "data": {
      "text/plain": [
       "[1972, 1980, 1984, 1993, 1995, 1995, 1995, 2001, 2002, 2009, 2014]"
      ]
     },
     "execution_count": 51,
     "metadata": {},
     "output_type": "execute_result"
    }
   ],
   "source": [
    "#Mostrando lista ano\n",
    "lista_ano"
   ]
  },
  {
   "cell_type": "code",
   "execution_count": 52,
   "id": "7d5f8932",
   "metadata": {},
   "outputs": [
    {
     "data": {
      "text/plain": [
       "['C',\n",
       " 'C++',\n",
       " 'Matlab',\n",
       " 'R',\n",
       " 'Java',\n",
       " 'JavaScript',\n",
       " 'PHP',\n",
       " 'C#',\n",
       " 'VB.NET',\n",
       " 'Go',\n",
       " 'Swift']"
      ]
     },
     "execution_count": 52,
     "metadata": {},
     "output_type": "execute_result"
    }
   ],
   "source": [
    "#Mostrando lista nome\n",
    "lista_nome"
   ]
  },
  {
   "cell_type": "code",
   "execution_count": 53,
   "id": "2c9a6028",
   "metadata": {},
   "outputs": [],
   "source": [
    "#Gerando duas sublistas: uma com todas as linguagens criadas antes de 2000 e a outra com o resto\n",
    "lista_2000 = [aux for aux in lst_ling if aux[1] < 2000]\n",
    "lista_resto = [aux for aux in lst_ling if aux[1] >= 2000]"
   ]
  },
  {
   "cell_type": "code",
   "execution_count": 54,
   "id": "2f6886fd",
   "metadata": {},
   "outputs": [
    {
     "data": {
      "text/plain": [
       "[['C', 1972],\n",
       " ['C++', 1980],\n",
       " ['Matlab', 1984],\n",
       " ['R', 1993],\n",
       " ['Java', 1995],\n",
       " ['JavaScript', 1995],\n",
       " ['PHP', 1995]]"
      ]
     },
     "execution_count": 54,
     "metadata": {},
     "output_type": "execute_result"
    }
   ],
   "source": [
    "#Mostra lista com as linguagens antes de 2000\n",
    "lista_2000"
   ]
  },
  {
   "cell_type": "code",
   "execution_count": 55,
   "id": "ec2a7062",
   "metadata": {},
   "outputs": [
    {
     "data": {
      "text/plain": [
       "[['C#', 2001], ['VB.NET', 2002], ['Go', 2009], ['Swift', 2014]]"
      ]
     },
     "execution_count": 55,
     "metadata": {},
     "output_type": "execute_result"
    }
   ],
   "source": [
    "#Mostra lista ocm as linguagens depois de 2000\n",
    "lista_resto"
   ]
  },
  {
   "cell_type": "markdown",
   "id": "88f1dfc8",
   "metadata": {},
   "source": [
    "Parte B"
   ]
  },
  {
   "cell_type": "code",
   "execution_count": 5,
   "id": "b5587310",
   "metadata": {},
   "outputs": [
    {
     "name": "stdout",
     "output_type": "stream",
     "text": [
      "digite um número: 1\n",
      "digite um número: e\n",
      "informe um número\n",
      "\n",
      "digite um número: r\n",
      "informe um número\n",
      "\n",
      "digite um número: t\n",
      "informe um número\n",
      "\n",
      "digite um número: 100\n",
      "digite um número: 2\n",
      "digite um número: 3\n",
      "digite um número: q\n",
      "Média =  26.5 \n",
      "maior =  100.0 \n",
      "Menor =  1.0\n"
     ]
    }
   ],
   "source": [
    "#Programa que pega várias entradas e como resultado informa a média, maior e menor número.\n",
    "cont = 0\n",
    "maior = 0\n",
    "soma = 0\n",
    "menor = 'a'\n",
    "while True:\n",
    "    entrada = input(\"digite um número: \")\n",
    "    if entrada == 'q' or entrada == 'Q':\n",
    "        break\n",
    "    try:\n",
    "        entrada = float(entrada)\n",
    "        if menor == 'a':\n",
    "            menor = entrada\n",
    "        else:\n",
    "            if menor > entrada:\n",
    "                menor = entrada\n",
    "                \n",
    "        cont+=1\n",
    "        \n",
    "        soma += entrada\n",
    "        \n",
    "        if maior < entrada:\n",
    "            maior = entrada\n",
    "    except:\n",
    "        print(\"informe um número\\n\")\n",
    "\n",
    "if cont != 0:\n",
    "    media = soma/cont\n",
    "    print(\"Média = \", media,\"\\nmaior = \", maior,\"\\nMenor = \", menor)\n",
    "else:\n",
    "    print(\"Não foi digitado nenhum número \")"
   ]
  },
  {
   "cell_type": "code",
   "execution_count": 3,
   "id": "b49f7c2e",
   "metadata": {},
   "outputs": [
    {
     "name": "stdout",
     "output_type": "stream",
     "text": [
      "digiteoça\n",
      "<class 'str'>\n",
      "não é\n"
     ]
    }
   ],
   "source": [
    "ent = input(\"digite\")\n",
    "if type(ent) == 'srt':\n",
    "    print(\"é srt\")\n",
    "else:\n",
    "    print(type(ent))\n",
    "    print(\"não é\")"
   ]
  }
 ],
 "metadata": {
  "kernelspec": {
   "display_name": "Python 3 (ipykernel)",
   "language": "python",
   "name": "python3"
  },
  "language_info": {
   "codemirror_mode": {
    "name": "ipython",
    "version": 3
   },
   "file_extension": ".py",
   "mimetype": "text/x-python",
   "name": "python",
   "nbconvert_exporter": "python",
   "pygments_lexer": "ipython3",
   "version": "3.9.13"
  }
 },
 "nbformat": 4,
 "nbformat_minor": 5
}
